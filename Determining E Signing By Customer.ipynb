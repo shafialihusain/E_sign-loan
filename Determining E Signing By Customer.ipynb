{
 "cells": [
  {
   "cell_type": "markdown",
   "metadata": {},
   "source": [
    "Problem Statement: A fintech company specializes on loans and has partnered with P2P lending marketplace. The number of conversions from leads through marketplace are satisfactory but the company wants to increase these conversions for better profits. \n",
    "\n",
    "Market: The loan applicants who reached out through an intermediary marketplace.\n",
    "\n",
    "Product: Loan\n",
    "\n",
    "Goal: Determining the 'quality' applicants who reach a key part of loan application process i.e electronic signature phase(e_sign) and target those applicants who are predicted to not reach the e_sign phase with different onboarding screens."
   ]
  },
  {
   "cell_type": "code",
   "execution_count": 1,
   "metadata": {
    "collapsed": true
   },
   "outputs": [],
   "source": [
    "import numpy as np\n",
    "import pandas as pd\n",
    "import matplotlib.pyplot as plt\n",
    "import seaborn as sns\n",
    "import random\n",
    "import time"
   ]
  },
  {
   "cell_type": "code",
   "execution_count": 2,
   "metadata": {
    "collapsed": true
   },
   "outputs": [],
   "source": [
    "dataset = pd.read_csv(\"P39-Financial-Data.csv\")"
   ]
  },
  {
   "cell_type": "code",
   "execution_count": 3,
   "metadata": {},
   "outputs": [
    {
     "data": {
      "text/html": [
       "<div>\n",
       "<style>\n",
       "    .dataframe thead tr:only-child th {\n",
       "        text-align: right;\n",
       "    }\n",
       "\n",
       "    .dataframe thead th {\n",
       "        text-align: left;\n",
       "    }\n",
       "\n",
       "    .dataframe tbody tr th {\n",
       "        vertical-align: top;\n",
       "    }\n",
       "</style>\n",
       "<table border=\"1\" class=\"dataframe\">\n",
       "  <thead>\n",
       "    <tr style=\"text-align: right;\">\n",
       "      <th></th>\n",
       "      <th>entry_id</th>\n",
       "      <th>age</th>\n",
       "      <th>pay_schedule</th>\n",
       "      <th>home_owner</th>\n",
       "      <th>income</th>\n",
       "      <th>months_employed</th>\n",
       "      <th>years_employed</th>\n",
       "      <th>current_address_year</th>\n",
       "      <th>personal_account_m</th>\n",
       "      <th>personal_account_y</th>\n",
       "      <th>...</th>\n",
       "      <th>amount_requested</th>\n",
       "      <th>risk_score</th>\n",
       "      <th>risk_score_2</th>\n",
       "      <th>risk_score_3</th>\n",
       "      <th>risk_score_4</th>\n",
       "      <th>risk_score_5</th>\n",
       "      <th>ext_quality_score</th>\n",
       "      <th>ext_quality_score_2</th>\n",
       "      <th>inquiries_last_month</th>\n",
       "      <th>e_signed</th>\n",
       "    </tr>\n",
       "  </thead>\n",
       "  <tbody>\n",
       "    <tr>\n",
       "      <th>0</th>\n",
       "      <td>7629673</td>\n",
       "      <td>40</td>\n",
       "      <td>bi-weekly</td>\n",
       "      <td>1</td>\n",
       "      <td>3135</td>\n",
       "      <td>0</td>\n",
       "      <td>3</td>\n",
       "      <td>3</td>\n",
       "      <td>6</td>\n",
       "      <td>2</td>\n",
       "      <td>...</td>\n",
       "      <td>550</td>\n",
       "      <td>36200</td>\n",
       "      <td>0.737398</td>\n",
       "      <td>0.903517</td>\n",
       "      <td>0.487712</td>\n",
       "      <td>0.515977</td>\n",
       "      <td>0.580918</td>\n",
       "      <td>0.380918</td>\n",
       "      <td>10</td>\n",
       "      <td>1</td>\n",
       "    </tr>\n",
       "    <tr>\n",
       "      <th>1</th>\n",
       "      <td>3560428</td>\n",
       "      <td>61</td>\n",
       "      <td>weekly</td>\n",
       "      <td>0</td>\n",
       "      <td>3180</td>\n",
       "      <td>0</td>\n",
       "      <td>6</td>\n",
       "      <td>3</td>\n",
       "      <td>2</td>\n",
       "      <td>7</td>\n",
       "      <td>...</td>\n",
       "      <td>600</td>\n",
       "      <td>30150</td>\n",
       "      <td>0.738510</td>\n",
       "      <td>0.881027</td>\n",
       "      <td>0.713423</td>\n",
       "      <td>0.826402</td>\n",
       "      <td>0.730720</td>\n",
       "      <td>0.630720</td>\n",
       "      <td>9</td>\n",
       "      <td>0</td>\n",
       "    </tr>\n",
       "    <tr>\n",
       "      <th>2</th>\n",
       "      <td>6934997</td>\n",
       "      <td>23</td>\n",
       "      <td>weekly</td>\n",
       "      <td>0</td>\n",
       "      <td>1540</td>\n",
       "      <td>6</td>\n",
       "      <td>0</td>\n",
       "      <td>0</td>\n",
       "      <td>7</td>\n",
       "      <td>1</td>\n",
       "      <td>...</td>\n",
       "      <td>450</td>\n",
       "      <td>34550</td>\n",
       "      <td>0.642993</td>\n",
       "      <td>0.766554</td>\n",
       "      <td>0.595018</td>\n",
       "      <td>0.762284</td>\n",
       "      <td>0.531712</td>\n",
       "      <td>0.531712</td>\n",
       "      <td>7</td>\n",
       "      <td>0</td>\n",
       "    </tr>\n",
       "    <tr>\n",
       "      <th>3</th>\n",
       "      <td>5682812</td>\n",
       "      <td>40</td>\n",
       "      <td>bi-weekly</td>\n",
       "      <td>0</td>\n",
       "      <td>5230</td>\n",
       "      <td>0</td>\n",
       "      <td>6</td>\n",
       "      <td>1</td>\n",
       "      <td>2</td>\n",
       "      <td>7</td>\n",
       "      <td>...</td>\n",
       "      <td>700</td>\n",
       "      <td>42150</td>\n",
       "      <td>0.665224</td>\n",
       "      <td>0.960832</td>\n",
       "      <td>0.767828</td>\n",
       "      <td>0.778831</td>\n",
       "      <td>0.792552</td>\n",
       "      <td>0.592552</td>\n",
       "      <td>8</td>\n",
       "      <td>1</td>\n",
       "    </tr>\n",
       "    <tr>\n",
       "      <th>4</th>\n",
       "      <td>5335819</td>\n",
       "      <td>33</td>\n",
       "      <td>semi-monthly</td>\n",
       "      <td>0</td>\n",
       "      <td>3590</td>\n",
       "      <td>0</td>\n",
       "      <td>5</td>\n",
       "      <td>2</td>\n",
       "      <td>2</td>\n",
       "      <td>8</td>\n",
       "      <td>...</td>\n",
       "      <td>1100</td>\n",
       "      <td>53850</td>\n",
       "      <td>0.617361</td>\n",
       "      <td>0.857560</td>\n",
       "      <td>0.613487</td>\n",
       "      <td>0.665523</td>\n",
       "      <td>0.744634</td>\n",
       "      <td>0.744634</td>\n",
       "      <td>12</td>\n",
       "      <td>0</td>\n",
       "    </tr>\n",
       "  </tbody>\n",
       "</table>\n",
       "<p>5 rows × 21 columns</p>\n",
       "</div>"
      ],
      "text/plain": [
       "   entry_id  age  pay_schedule  home_owner  income  months_employed  \\\n",
       "0   7629673   40     bi-weekly           1    3135                0   \n",
       "1   3560428   61        weekly           0    3180                0   \n",
       "2   6934997   23        weekly           0    1540                6   \n",
       "3   5682812   40     bi-weekly           0    5230                0   \n",
       "4   5335819   33  semi-monthly           0    3590                0   \n",
       "\n",
       "   years_employed  current_address_year  personal_account_m  \\\n",
       "0               3                     3                   6   \n",
       "1               6                     3                   2   \n",
       "2               0                     0                   7   \n",
       "3               6                     1                   2   \n",
       "4               5                     2                   2   \n",
       "\n",
       "   personal_account_y    ...     amount_requested  risk_score  risk_score_2  \\\n",
       "0                   2    ...                  550       36200      0.737398   \n",
       "1                   7    ...                  600       30150      0.738510   \n",
       "2                   1    ...                  450       34550      0.642993   \n",
       "3                   7    ...                  700       42150      0.665224   \n",
       "4                   8    ...                 1100       53850      0.617361   \n",
       "\n",
       "   risk_score_3  risk_score_4  risk_score_5  ext_quality_score  \\\n",
       "0      0.903517      0.487712      0.515977           0.580918   \n",
       "1      0.881027      0.713423      0.826402           0.730720   \n",
       "2      0.766554      0.595018      0.762284           0.531712   \n",
       "3      0.960832      0.767828      0.778831           0.792552   \n",
       "4      0.857560      0.613487      0.665523           0.744634   \n",
       "\n",
       "   ext_quality_score_2  inquiries_last_month  e_signed  \n",
       "0             0.380918                    10         1  \n",
       "1             0.630720                     9         0  \n",
       "2             0.531712                     7         0  \n",
       "3             0.592552                     8         1  \n",
       "4             0.744634                    12         0  \n",
       "\n",
       "[5 rows x 21 columns]"
      ]
     },
     "execution_count": 3,
     "metadata": {},
     "output_type": "execute_result"
    }
   ],
   "source": [
    "dataset.head()"
   ]
  },
  {
   "cell_type": "code",
   "execution_count": 4,
   "metadata": {},
   "outputs": [
    {
     "data": {
      "text/plain": [
       "Index(['entry_id', 'age', 'pay_schedule', 'home_owner', 'income',\n",
       "       'months_employed', 'years_employed', 'current_address_year',\n",
       "       'personal_account_m', 'personal_account_y', 'has_debt',\n",
       "       'amount_requested', 'risk_score', 'risk_score_2', 'risk_score_3',\n",
       "       'risk_score_4', 'risk_score_5', 'ext_quality_score',\n",
       "       'ext_quality_score_2', 'inquiries_last_month', 'e_signed'],\n",
       "      dtype='object')"
      ]
     },
     "execution_count": 4,
     "metadata": {},
     "output_type": "execute_result"
    }
   ],
   "source": [
    "dataset.columns"
   ]
  },
  {
   "cell_type": "code",
   "execution_count": 5,
   "metadata": {},
   "outputs": [
    {
     "data": {
      "text/html": [
       "<div>\n",
       "<style>\n",
       "    .dataframe thead tr:only-child th {\n",
       "        text-align: right;\n",
       "    }\n",
       "\n",
       "    .dataframe thead th {\n",
       "        text-align: left;\n",
       "    }\n",
       "\n",
       "    .dataframe tbody tr th {\n",
       "        vertical-align: top;\n",
       "    }\n",
       "</style>\n",
       "<table border=\"1\" class=\"dataframe\">\n",
       "  <thead>\n",
       "    <tr style=\"text-align: right;\">\n",
       "      <th></th>\n",
       "      <th>entry_id</th>\n",
       "      <th>age</th>\n",
       "      <th>home_owner</th>\n",
       "      <th>income</th>\n",
       "      <th>months_employed</th>\n",
       "      <th>years_employed</th>\n",
       "      <th>current_address_year</th>\n",
       "      <th>personal_account_m</th>\n",
       "      <th>personal_account_y</th>\n",
       "      <th>has_debt</th>\n",
       "      <th>amount_requested</th>\n",
       "      <th>risk_score</th>\n",
       "      <th>risk_score_2</th>\n",
       "      <th>risk_score_3</th>\n",
       "      <th>risk_score_4</th>\n",
       "      <th>risk_score_5</th>\n",
       "      <th>ext_quality_score</th>\n",
       "      <th>ext_quality_score_2</th>\n",
       "      <th>inquiries_last_month</th>\n",
       "      <th>e_signed</th>\n",
       "    </tr>\n",
       "  </thead>\n",
       "  <tbody>\n",
       "    <tr>\n",
       "      <th>count</th>\n",
       "      <td>1.790800e+04</td>\n",
       "      <td>17908.000000</td>\n",
       "      <td>17908.000000</td>\n",
       "      <td>17908.000000</td>\n",
       "      <td>17908.000000</td>\n",
       "      <td>17908.000000</td>\n",
       "      <td>17908.000000</td>\n",
       "      <td>17908.000000</td>\n",
       "      <td>17908.000000</td>\n",
       "      <td>17908.000000</td>\n",
       "      <td>17908.000000</td>\n",
       "      <td>17908.000000</td>\n",
       "      <td>17908.000000</td>\n",
       "      <td>17908.000000</td>\n",
       "      <td>17908.000000</td>\n",
       "      <td>17908.000000</td>\n",
       "      <td>17908.000000</td>\n",
       "      <td>17908.000000</td>\n",
       "      <td>17908.000000</td>\n",
       "      <td>17908.000000</td>\n",
       "    </tr>\n",
       "    <tr>\n",
       "      <th>mean</th>\n",
       "      <td>5.596978e+06</td>\n",
       "      <td>43.015412</td>\n",
       "      <td>0.425173</td>\n",
       "      <td>3657.214653</td>\n",
       "      <td>1.186006</td>\n",
       "      <td>3.526860</td>\n",
       "      <td>3.584711</td>\n",
       "      <td>3.427183</td>\n",
       "      <td>3.503350</td>\n",
       "      <td>0.795399</td>\n",
       "      <td>950.446449</td>\n",
       "      <td>61086.302211</td>\n",
       "      <td>0.690878</td>\n",
       "      <td>0.878276</td>\n",
       "      <td>0.583155</td>\n",
       "      <td>0.718252</td>\n",
       "      <td>0.623112</td>\n",
       "      <td>0.622068</td>\n",
       "      <td>6.457226</td>\n",
       "      <td>0.538251</td>\n",
       "    </tr>\n",
       "    <tr>\n",
       "      <th>std</th>\n",
       "      <td>2.562473e+06</td>\n",
       "      <td>11.873107</td>\n",
       "      <td>0.494383</td>\n",
       "      <td>1504.890063</td>\n",
       "      <td>2.400897</td>\n",
       "      <td>2.259732</td>\n",
       "      <td>2.751937</td>\n",
       "      <td>2.216440</td>\n",
       "      <td>1.955568</td>\n",
       "      <td>0.403421</td>\n",
       "      <td>698.543683</td>\n",
       "      <td>15394.255020</td>\n",
       "      <td>0.090470</td>\n",
       "      <td>0.054563</td>\n",
       "      <td>0.125061</td>\n",
       "      <td>0.120697</td>\n",
       "      <td>0.139729</td>\n",
       "      <td>0.139898</td>\n",
       "      <td>3.673093</td>\n",
       "      <td>0.498549</td>\n",
       "    </tr>\n",
       "    <tr>\n",
       "      <th>min</th>\n",
       "      <td>1.111398e+06</td>\n",
       "      <td>18.000000</td>\n",
       "      <td>0.000000</td>\n",
       "      <td>905.000000</td>\n",
       "      <td>0.000000</td>\n",
       "      <td>0.000000</td>\n",
       "      <td>0.000000</td>\n",
       "      <td>0.000000</td>\n",
       "      <td>0.000000</td>\n",
       "      <td>0.000000</td>\n",
       "      <td>350.000000</td>\n",
       "      <td>2100.000000</td>\n",
       "      <td>0.023258</td>\n",
       "      <td>0.451371</td>\n",
       "      <td>0.016724</td>\n",
       "      <td>0.153367</td>\n",
       "      <td>0.010184</td>\n",
       "      <td>0.006622</td>\n",
       "      <td>1.000000</td>\n",
       "      <td>0.000000</td>\n",
       "    </tr>\n",
       "    <tr>\n",
       "      <th>25%</th>\n",
       "      <td>3.378999e+06</td>\n",
       "      <td>34.000000</td>\n",
       "      <td>0.000000</td>\n",
       "      <td>2580.000000</td>\n",
       "      <td>0.000000</td>\n",
       "      <td>2.000000</td>\n",
       "      <td>2.000000</td>\n",
       "      <td>2.000000</td>\n",
       "      <td>2.000000</td>\n",
       "      <td>1.000000</td>\n",
       "      <td>600.000000</td>\n",
       "      <td>49350.000000</td>\n",
       "      <td>0.640993</td>\n",
       "      <td>0.850882</td>\n",
       "      <td>0.500208</td>\n",
       "      <td>0.633708</td>\n",
       "      <td>0.521735</td>\n",
       "      <td>0.519677</td>\n",
       "      <td>4.000000</td>\n",
       "      <td>0.000000</td>\n",
       "    </tr>\n",
       "    <tr>\n",
       "      <th>50%</th>\n",
       "      <td>5.608376e+06</td>\n",
       "      <td>42.000000</td>\n",
       "      <td>0.000000</td>\n",
       "      <td>3260.000000</td>\n",
       "      <td>0.000000</td>\n",
       "      <td>3.000000</td>\n",
       "      <td>3.000000</td>\n",
       "      <td>2.000000</td>\n",
       "      <td>3.000000</td>\n",
       "      <td>1.000000</td>\n",
       "      <td>700.000000</td>\n",
       "      <td>61200.000000</td>\n",
       "      <td>0.699561</td>\n",
       "      <td>0.881004</td>\n",
       "      <td>0.588208</td>\n",
       "      <td>0.725113</td>\n",
       "      <td>0.625944</td>\n",
       "      <td>0.622974</td>\n",
       "      <td>6.000000</td>\n",
       "      <td>1.000000</td>\n",
       "    </tr>\n",
       "    <tr>\n",
       "      <th>75%</th>\n",
       "      <td>7.805624e+06</td>\n",
       "      <td>51.000000</td>\n",
       "      <td>1.000000</td>\n",
       "      <td>4670.000000</td>\n",
       "      <td>1.000000</td>\n",
       "      <td>5.000000</td>\n",
       "      <td>5.000000</td>\n",
       "      <td>5.000000</td>\n",
       "      <td>4.000000</td>\n",
       "      <td>1.000000</td>\n",
       "      <td>1100.000000</td>\n",
       "      <td>72750.000000</td>\n",
       "      <td>0.752887</td>\n",
       "      <td>0.912608</td>\n",
       "      <td>0.672395</td>\n",
       "      <td>0.806681</td>\n",
       "      <td>0.729841</td>\n",
       "      <td>0.728940</td>\n",
       "      <td>8.000000</td>\n",
       "      <td>1.000000</td>\n",
       "    </tr>\n",
       "    <tr>\n",
       "      <th>max</th>\n",
       "      <td>9.999874e+06</td>\n",
       "      <td>96.000000</td>\n",
       "      <td>1.000000</td>\n",
       "      <td>9985.000000</td>\n",
       "      <td>11.000000</td>\n",
       "      <td>16.000000</td>\n",
       "      <td>12.000000</td>\n",
       "      <td>11.000000</td>\n",
       "      <td>15.000000</td>\n",
       "      <td>1.000000</td>\n",
       "      <td>10200.000000</td>\n",
       "      <td>99750.000000</td>\n",
       "      <td>0.999997</td>\n",
       "      <td>0.999024</td>\n",
       "      <td>0.978932</td>\n",
       "      <td>0.996260</td>\n",
       "      <td>0.970249</td>\n",
       "      <td>0.966953</td>\n",
       "      <td>30.000000</td>\n",
       "      <td>1.000000</td>\n",
       "    </tr>\n",
       "  </tbody>\n",
       "</table>\n",
       "</div>"
      ],
      "text/plain": [
       "           entry_id           age    home_owner        income  \\\n",
       "count  1.790800e+04  17908.000000  17908.000000  17908.000000   \n",
       "mean   5.596978e+06     43.015412      0.425173   3657.214653   \n",
       "std    2.562473e+06     11.873107      0.494383   1504.890063   \n",
       "min    1.111398e+06     18.000000      0.000000    905.000000   \n",
       "25%    3.378999e+06     34.000000      0.000000   2580.000000   \n",
       "50%    5.608376e+06     42.000000      0.000000   3260.000000   \n",
       "75%    7.805624e+06     51.000000      1.000000   4670.000000   \n",
       "max    9.999874e+06     96.000000      1.000000   9985.000000   \n",
       "\n",
       "       months_employed  years_employed  current_address_year  \\\n",
       "count     17908.000000    17908.000000          17908.000000   \n",
       "mean          1.186006        3.526860              3.584711   \n",
       "std           2.400897        2.259732              2.751937   \n",
       "min           0.000000        0.000000              0.000000   \n",
       "25%           0.000000        2.000000              2.000000   \n",
       "50%           0.000000        3.000000              3.000000   \n",
       "75%           1.000000        5.000000              5.000000   \n",
       "max          11.000000       16.000000             12.000000   \n",
       "\n",
       "       personal_account_m  personal_account_y      has_debt  amount_requested  \\\n",
       "count        17908.000000        17908.000000  17908.000000      17908.000000   \n",
       "mean             3.427183            3.503350      0.795399        950.446449   \n",
       "std              2.216440            1.955568      0.403421        698.543683   \n",
       "min              0.000000            0.000000      0.000000        350.000000   \n",
       "25%              2.000000            2.000000      1.000000        600.000000   \n",
       "50%              2.000000            3.000000      1.000000        700.000000   \n",
       "75%              5.000000            4.000000      1.000000       1100.000000   \n",
       "max             11.000000           15.000000      1.000000      10200.000000   \n",
       "\n",
       "         risk_score  risk_score_2  risk_score_3  risk_score_4  risk_score_5  \\\n",
       "count  17908.000000  17908.000000  17908.000000  17908.000000  17908.000000   \n",
       "mean   61086.302211      0.690878      0.878276      0.583155      0.718252   \n",
       "std    15394.255020      0.090470      0.054563      0.125061      0.120697   \n",
       "min     2100.000000      0.023258      0.451371      0.016724      0.153367   \n",
       "25%    49350.000000      0.640993      0.850882      0.500208      0.633708   \n",
       "50%    61200.000000      0.699561      0.881004      0.588208      0.725113   \n",
       "75%    72750.000000      0.752887      0.912608      0.672395      0.806681   \n",
       "max    99750.000000      0.999997      0.999024      0.978932      0.996260   \n",
       "\n",
       "       ext_quality_score  ext_quality_score_2  inquiries_last_month  \\\n",
       "count       17908.000000         17908.000000          17908.000000   \n",
       "mean            0.623112             0.622068              6.457226   \n",
       "std             0.139729             0.139898              3.673093   \n",
       "min             0.010184             0.006622              1.000000   \n",
       "25%             0.521735             0.519677              4.000000   \n",
       "50%             0.625944             0.622974              6.000000   \n",
       "75%             0.729841             0.728940              8.000000   \n",
       "max             0.970249             0.966953             30.000000   \n",
       "\n",
       "           e_signed  \n",
       "count  17908.000000  \n",
       "mean       0.538251  \n",
       "std        0.498549  \n",
       "min        0.000000  \n",
       "25%        0.000000  \n",
       "50%        1.000000  \n",
       "75%        1.000000  \n",
       "max        1.000000  "
      ]
     },
     "execution_count": 5,
     "metadata": {},
     "output_type": "execute_result"
    }
   ],
   "source": [
    "dataset.describe()"
   ]
  },
  {
   "cell_type": "code",
   "execution_count": 6,
   "metadata": {},
   "outputs": [
    {
     "data": {
      "text/plain": [
       "entry_id                False\n",
       "age                     False\n",
       "pay_schedule            False\n",
       "home_owner              False\n",
       "income                  False\n",
       "months_employed         False\n",
       "years_employed          False\n",
       "current_address_year    False\n",
       "personal_account_m      False\n",
       "personal_account_y      False\n",
       "has_debt                False\n",
       "amount_requested        False\n",
       "risk_score              False\n",
       "risk_score_2            False\n",
       "risk_score_3            False\n",
       "risk_score_4            False\n",
       "risk_score_5            False\n",
       "ext_quality_score       False\n",
       "ext_quality_score_2     False\n",
       "inquiries_last_month    False\n",
       "e_signed                False\n",
       "dtype: bool"
      ]
     },
     "execution_count": 6,
     "metadata": {},
     "output_type": "execute_result"
    }
   ],
   "source": [
    "dataset.isnull().any()"
   ]
  },
  {
   "cell_type": "markdown",
   "metadata": {},
   "source": [
    "HISTOGRAMS"
   ]
  },
  {
   "cell_type": "code",
   "execution_count": 7,
   "metadata": {
    "collapsed": true
   },
   "outputs": [],
   "source": [
    "dataset2 = dataset.drop([\"entry_id\",\"pay_schedule\",\"e_signed\"], axis=1)"
   ]
  },
  {
   "cell_type": "code",
   "execution_count": 8,
   "metadata": {
    "scrolled": false
   },
   "outputs": [
    {
     "data": {
      "image/png": "[encoded data removed]",
      "text/plain": [
       "<matplotlib.figure.Figure at 0x1c2fa5461d0>"
      ]
     },
     "metadata": {},
     "output_type": "display_data"
    }
   ],
   "source": [
    "fig = plt.figure(figsize=(14,14))\n",
    "plt.suptitle(\"Histograms of numerical value\", fontsize=15)\n",
    "for i in range(dataset2.shape[1]):\n",
    "    plt.subplot(6,3,i+1)\n",
    "    f= plt.gca()\n",
    "    f.set_title(dataset2.columns.values[i])\n",
    "    vals = np.size(dataset2.iloc[:,i].unique())\n",
    "    if vals>100:\n",
    "        vals=100\n",
    "    plt.hist(dataset2.iloc[:,i], bins=vals)\n",
    "plt.tight_layout(rect=[0,0.03,1,0.95])\n",
    "plt.show()"
   ]
  },
  {
   "cell_type": "markdown",
   "metadata": {},
   "source": [
    "We observe that the month_employed column seems to be inaccurate since its value is '0' for most of the observations, so we will remove it during feature engineering."
   ]
  },
  {
   "cell_type": "markdown",
   "metadata": {},
   "source": [
    "CORRELATION WITH RESPONSE"
   ]
  },
  {
   "cell_type": "code",
   "execution_count": 9,
   "metadata": {
    "scrolled": false
   },
   "outputs": [
    {
     "data": {
      "image/png": "[encoded data removed]",
      "text/plain": [
       "<matplotlib.figure.Figure at 0x1c2f9547278>"
      ]
     },
     "metadata": {},
     "output_type": "display_data"
    }
   ],
   "source": [
    "dataset2.corrwith(dataset.e_signed).plot.bar(figsize=(16,14), fontsize=12, rot=60, grid=True, title=\"Correlation with response\")\n",
    "plt.show()"
   ]
  },
  {
   "cell_type": "markdown",
   "metadata": {},
   "source": [
    "The +ve and -ve sign of correlation seem obvious for most of the features."
   ]
  },
  {
   "cell_type": "markdown",
   "metadata": {},
   "source": [
    "CORRELATION WITH ONE ANOTHER"
   ]
  },
  {
   "cell_type": "code",
   "execution_count": 10,
   "metadata": {
    "scrolled": false
   },
   "outputs": [
    {
     "data": {
      "image/png": "[encoded data removed]",
      "text/plain": [
       "<matplotlib.figure.Figure at 0x1c2fd924710>"
      ]
     },
     "metadata": {},
     "output_type": "display_data"
    }
   ],
   "source": [
    "sns.set(style='white')\n",
    "corr = dataset2.corr()\n",
    "mask=np.zeros_like(corr,dtype=np.bool)\n",
    "mask[np.triu_indices_from(mask)] = True\n",
    "f, ax= plt.subplots(figsize=(20,15))\n",
    "cmap= sns.diverging_palette(220,10, as_cmap=True)\n",
    "sns.heatmap(corr, mask=mask, cmap=cmap, vmax=0.5, center=0, square=True, cbar_kws={\"shrink\":.5}, linewidths=0.5,fmt='.2g',annot=True)\n",
    "plt.tight_layout()\n",
    "plt.show()"
   ]
  },
  {
   "cell_type": "markdown",
   "metadata": {},
   "source": [
    "We do not find strong correlation among any of the features."
   ]
  },
  {
   "cell_type": "markdown",
   "metadata": {},
   "source": [
    "FEATURE ENGINEERING"
   ]
  },
  {
   "cell_type": "code",
   "execution_count": 11,
   "metadata": {
    "collapsed": true
   },
   "outputs": [],
   "source": [
    "dataset = dataset.drop([\"months_employed\"], axis=1)   #\"months_employed\" seems inaccurate due to distribution observed in histogram"
   ]
  },
  {
   "cell_type": "code",
   "execution_count": 12,
   "metadata": {
    "collapsed": true
   },
   "outputs": [],
   "source": [
    "dataset[\"personal_account_months\"]= (dataset.personal_account_m + dataset.personal_account_y*12)"
   ]
  },
  {
   "cell_type": "code",
   "execution_count": 13,
   "metadata": {
    "collapsed": true
   },
   "outputs": [],
   "source": [
    "dataset = dataset.drop([\"personal_account_m\", \"personal_account_y\"], axis=1)"
   ]
  },
  {
   "cell_type": "code",
   "execution_count": 14,
   "metadata": {},
   "outputs": [
    {
     "data": {
      "text/html": [
       "<div>\n",
       "<style>\n",
       "    .dataframe thead tr:only-child th {\n",
       "        text-align: right;\n",
       "    }\n",
       "\n",
       "    .dataframe thead th {\n",
       "        text-align: left;\n",
       "    }\n",
       "\n",
       "    .dataframe tbody tr th {\n",
       "        vertical-align: top;\n",
       "    }\n",
       "</style>\n",
       "<table border=\"1\" class=\"dataframe\">\n",
       "  <thead>\n",
       "    <tr style=\"text-align: right;\">\n",
       "      <th></th>\n",
       "      <th>entry_id</th>\n",
       "      <th>age</th>\n",
       "      <th>pay_schedule</th>\n",
       "      <th>home_owner</th>\n",
       "      <th>income</th>\n",
       "      <th>years_employed</th>\n",
       "      <th>current_address_year</th>\n",
       "      <th>has_debt</th>\n",
       "      <th>amount_requested</th>\n",
       "      <th>risk_score</th>\n",
       "      <th>risk_score_2</th>\n",
       "      <th>risk_score_3</th>\n",
       "      <th>risk_score_4</th>\n",
       "      <th>risk_score_5</th>\n",
       "      <th>ext_quality_score</th>\n",
       "      <th>ext_quality_score_2</th>\n",
       "      <th>inquiries_last_month</th>\n",
       "      <th>e_signed</th>\n",
       "      <th>personal_account_months</th>\n",
       "    </tr>\n",
       "  </thead>\n",
       "  <tbody>\n",
       "    <tr>\n",
       "      <th>0</th>\n",
       "      <td>7629673</td>\n",
       "      <td>40</td>\n",
       "      <td>bi-weekly</td>\n",
       "      <td>1</td>\n",
       "      <td>3135</td>\n",
       "      <td>3</td>\n",
       "      <td>3</td>\n",
       "      <td>1</td>\n",
       "      <td>550</td>\n",
       "      <td>36200</td>\n",
       "      <td>0.737398</td>\n",
       "      <td>0.903517</td>\n",
       "      <td>0.487712</td>\n",
       "      <td>0.515977</td>\n",
       "      <td>0.580918</td>\n",
       "      <td>0.380918</td>\n",
       "      <td>10</td>\n",
       "      <td>1</td>\n",
       "      <td>30</td>\n",
       "    </tr>\n",
       "    <tr>\n",
       "      <th>1</th>\n",
       "      <td>3560428</td>\n",
       "      <td>61</td>\n",
       "      <td>weekly</td>\n",
       "      <td>0</td>\n",
       "      <td>3180</td>\n",
       "      <td>6</td>\n",
       "      <td>3</td>\n",
       "      <td>1</td>\n",
       "      <td>600</td>\n",
       "      <td>30150</td>\n",
       "      <td>0.738510</td>\n",
       "      <td>0.881027</td>\n",
       "      <td>0.713423</td>\n",
       "      <td>0.826402</td>\n",
       "      <td>0.730720</td>\n",
       "      <td>0.630720</td>\n",
       "      <td>9</td>\n",
       "      <td>0</td>\n",
       "      <td>86</td>\n",
       "    </tr>\n",
       "    <tr>\n",
       "      <th>2</th>\n",
       "      <td>6934997</td>\n",
       "      <td>23</td>\n",
       "      <td>weekly</td>\n",
       "      <td>0</td>\n",
       "      <td>1540</td>\n",
       "      <td>0</td>\n",
       "      <td>0</td>\n",
       "      <td>1</td>\n",
       "      <td>450</td>\n",
       "      <td>34550</td>\n",
       "      <td>0.642993</td>\n",
       "      <td>0.766554</td>\n",
       "      <td>0.595018</td>\n",
       "      <td>0.762284</td>\n",
       "      <td>0.531712</td>\n",
       "      <td>0.531712</td>\n",
       "      <td>7</td>\n",
       "      <td>0</td>\n",
       "      <td>19</td>\n",
       "    </tr>\n",
       "    <tr>\n",
       "      <th>3</th>\n",
       "      <td>5682812</td>\n",
       "      <td>40</td>\n",
       "      <td>bi-weekly</td>\n",
       "      <td>0</td>\n",
       "      <td>5230</td>\n",
       "      <td>6</td>\n",
       "      <td>1</td>\n",
       "      <td>1</td>\n",
       "      <td>700</td>\n",
       "      <td>42150</td>\n",
       "      <td>0.665224</td>\n",
       "      <td>0.960832</td>\n",
       "      <td>0.767828</td>\n",
       "      <td>0.778831</td>\n",
       "      <td>0.792552</td>\n",
       "      <td>0.592552</td>\n",
       "      <td>8</td>\n",
       "      <td>1</td>\n",
       "      <td>86</td>\n",
       "    </tr>\n",
       "    <tr>\n",
       "      <th>4</th>\n",
       "      <td>5335819</td>\n",
       "      <td>33</td>\n",
       "      <td>semi-monthly</td>\n",
       "      <td>0</td>\n",
       "      <td>3590</td>\n",
       "      <td>5</td>\n",
       "      <td>2</td>\n",
       "      <td>1</td>\n",
       "      <td>1100</td>\n",
       "      <td>53850</td>\n",
       "      <td>0.617361</td>\n",
       "      <td>0.857560</td>\n",
       "      <td>0.613487</td>\n",
       "      <td>0.665523</td>\n",
       "      <td>0.744634</td>\n",
       "      <td>0.744634</td>\n",
       "      <td>12</td>\n",
       "      <td>0</td>\n",
       "      <td>98</td>\n",
       "    </tr>\n",
       "  </tbody>\n",
       "</table>\n",
       "</div>"
      ],
      "text/plain": [
       "   entry_id  age  pay_schedule  home_owner  income  years_employed  \\\n",
       "0   7629673   40     bi-weekly           1    3135               3   \n",
       "1   3560428   61        weekly           0    3180               6   \n",
       "2   6934997   23        weekly           0    1540               0   \n",
       "3   5682812   40     bi-weekly           0    5230               6   \n",
       "4   5335819   33  semi-monthly           0    3590               5   \n",
       "\n",
       "   current_address_year  has_debt  amount_requested  risk_score  risk_score_2  \\\n",
       "0                     3         1               550       36200      0.737398   \n",
       "1                     3         1               600       30150      0.738510   \n",
       "2                     0         1               450       34550      0.642993   \n",
       "3                     1         1               700       42150      0.665224   \n",
       "4                     2         1              1100       53850      0.617361   \n",
       "\n",
       "   risk_score_3  risk_score_4  risk_score_5  ext_quality_score  \\\n",
       "0      0.903517      0.487712      0.515977           0.580918   \n",
       "1      0.881027      0.713423      0.826402           0.730720   \n",
       "2      0.766554      0.595018      0.762284           0.531712   \n",
       "3      0.960832      0.767828      0.778831           0.792552   \n",
       "4      0.857560      0.613487      0.665523           0.744634   \n",
       "\n",
       "   ext_quality_score_2  inquiries_last_month  e_signed  \\\n",
       "0             0.380918                    10         1   \n",
       "1             0.630720                     9         0   \n",
       "2             0.531712                     7         0   \n",
       "3             0.592552                     8         1   \n",
       "4             0.744634                    12         0   \n",
       "\n",
       "   personal_account_months  \n",
       "0                       30  \n",
       "1                       86  \n",
       "2                       19  \n",
       "3                       86  \n",
       "4                       98  "
      ]
     },
     "execution_count": 14,
     "metadata": {},
     "output_type": "execute_result"
    }
   ],
   "source": [
    "dataset.head()"
   ]
  },
  {
   "cell_type": "markdown",
   "metadata": {},
   "source": [
    "ONE HOT ENCODING"
   ]
  },
  {
   "cell_type": "code",
   "execution_count": 15,
   "metadata": {
    "collapsed": true
   },
   "outputs": [],
   "source": [
    "dataset = pd.get_dummies(dataset)"
   ]
  },
  {
   "cell_type": "code",
   "execution_count": 16,
   "metadata": {},
   "outputs": [
    {
     "data": {
      "text/plain": [
       "Index(['entry_id', 'age', 'home_owner', 'income', 'years_employed',\n",
       "       'current_address_year', 'has_debt', 'amount_requested', 'risk_score',\n",
       "       'risk_score_2', 'risk_score_3', 'risk_score_4', 'risk_score_5',\n",
       "       'ext_quality_score', 'ext_quality_score_2', 'inquiries_last_month',\n",
       "       'e_signed', 'personal_account_months', 'pay_schedule_bi-weekly',\n",
       "       'pay_schedule_monthly', 'pay_schedule_semi-monthly',\n",
       "       'pay_schedule_weekly'],\n",
       "      dtype='object')"
      ]
     },
     "execution_count": 16,
     "metadata": {},
     "output_type": "execute_result"
    }
   ],
   "source": [
    "dataset.columns"
   ]
  },
  {
   "cell_type": "code",
   "execution_count": 17,
   "metadata": {
    "collapsed": true
   },
   "outputs": [],
   "source": [
    "dataset = dataset.drop([\"pay_schedule_semi-monthly\"], axis=1)"
   ]
  },
  {
   "cell_type": "code",
   "execution_count": 18,
   "metadata": {
    "collapsed": true
   },
   "outputs": [],
   "source": [
    "X = dataset.drop([\"entry_id\",\"e_signed\"], axis=1)\n",
    "y= dataset[\"e_signed\"]\n",
    "users = dataset[\"entry_id\"]"
   ]
  },
  {
   "cell_type": "code",
   "execution_count": 19,
   "metadata": {
    "collapsed": true
   },
   "outputs": [],
   "source": [
    "from sklearn.model_selection import train_test_split\n",
    "X_train,X_test,y_train,y_test = train_test_split(X,y,test_size=0.2,random_state=0)"
   ]
  },
  {
   "cell_type": "markdown",
   "metadata": {},
   "source": [
    "FEATURE SCALING "
   ]
  },
  {
   "cell_type": "code",
   "execution_count": 20,
   "metadata": {
    "collapsed": true
   },
   "outputs": [],
   "source": [
    "from sklearn.preprocessing import StandardScaler\n",
    "sc_X = StandardScaler()\n",
    "X_train_s = pd.DataFrame(sc_X.fit_transform(X_train))\n",
    "X_test_s = pd.DataFrame(sc_X.transform(X_test))\n",
    "X_train_s.columns = X_train.columns.values\n",
    "X_test_s.columns = X_test.columns.values\n",
    "X_train_s.index = X_train.index.values\n",
    "X_test_s.index = X_test.index.values\n",
    "X_train= X_train_s\n",
    "X_test= X_test_s"
   ]
  },
  {
   "cell_type": "markdown",
   "metadata": {},
   "source": [
    "FITTING CLASSIFICATION MODEL 1"
   ]
  },
  {
   "cell_type": "code",
   "execution_count": 21,
   "metadata": {
    "collapsed": true
   },
   "outputs": [],
   "source": [
    "from sklearn.linear_model import LogisticRegression"
   ]
  },
  {
   "cell_type": "code",
   "execution_count": 22,
   "metadata": {
    "collapsed": true
   },
   "outputs": [],
   "source": [
    "classifier=LogisticRegression(random_state=0, penalty=\"l1\")"
   ]
  },
  {
   "cell_type": "code",
   "execution_count": 23,
   "metadata": {},
   "outputs": [
    {
     "name": "stderr",
     "output_type": "stream",
     "text": [
      "C:\\Program Files (x86)\\Anaconda3\\lib\\site-packages\\sklearn\\linear_model\\logistic.py:432: FutureWarning: Default solver will be changed to 'lbfgs' in 0.22. Specify a solver to silence this warning.\n",
      "  FutureWarning)\n"
     ]
    },
    {
     "data": {
      "text/plain": [
       "LogisticRegression(C=1.0, class_weight=None, dual=False, fit_intercept=True,\n",
       "                   intercept_scaling=1, l1_ratio=None, max_iter=100,\n",
       "                   multi_class='warn', n_jobs=None, penalty='l1',\n",
       "                   random_state=0, solver='warn', tol=0.0001, verbose=0,\n",
       "                   warm_start=False)"
      ]
     },
     "execution_count": 23,
     "metadata": {},
     "output_type": "execute_result"
    }
   ],
   "source": [
    "classifier.fit(X_train,y_train)"
   ]
  },
  {
   "cell_type": "code",
   "execution_count": 24,
   "metadata": {
    "collapsed": true
   },
   "outputs": [],
   "source": [
    "y_pred = classifier.predict(X_test)"
   ]
  },
  {
   "cell_type": "code",
   "execution_count": 25,
   "metadata": {
    "collapsed": true
   },
   "outputs": [],
   "source": [
    "from sklearn.metrics import confusion_matrix, accuracy_score, precision_score, recall_score, f1_score"
   ]
  },
  {
   "cell_type": "code",
   "execution_count": 26,
   "metadata": {
    "collapsed": true
   },
   "outputs": [],
   "source": [
    "acc = accuracy_score(y_test,y_pred)\n",
    "pre = precision_score(y_test, y_pred)\n",
    "rec = recall_score(y_test,y_pred)\n",
    "f1 = f1_score(y_test,y_pred)"
   ]
  },
  {
   "cell_type": "code",
   "execution_count": 27,
   "metadata": {},
   "outputs": [
    {
     "data": {
      "text/html": [
       "<div>\n",
       "<style>\n",
       "    .dataframe thead tr:only-child th {\n",
       "        text-align: right;\n",
       "    }\n",
       "\n",
       "    .dataframe thead th {\n",
       "        text-align: left;\n",
       "    }\n",
       "\n",
       "    .dataframe tbody tr th {\n",
       "        vertical-align: top;\n",
       "    }\n",
       "</style>\n",
       "<table border=\"1\" class=\"dataframe\">\n",
       "  <thead>\n",
       "    <tr style=\"text-align: right;\">\n",
       "      <th></th>\n",
       "      <th>Model</th>\n",
       "      <th>Accuracy</th>\n",
       "      <th>Precision</th>\n",
       "      <th>Recall</th>\n",
       "      <th>F1_score</th>\n",
       "    </tr>\n",
       "  </thead>\n",
       "  <tbody>\n",
       "    <tr>\n",
       "      <th>0</th>\n",
       "      <td>Logistic Regression(Lasso)</td>\n",
       "      <td>0.561977</td>\n",
       "      <td>0.575963</td>\n",
       "      <td>0.705913</td>\n",
       "      <td>0.634351</td>\n",
       "    </tr>\n",
       "  </tbody>\n",
       "</table>\n",
       "</div>"
      ],
      "text/plain": [
       "                        Model  Accuracy  Precision    Recall  F1_score\n",
       "0  Logistic Regression(Lasso)  0.561977   0.575963  0.705913  0.634351"
      ]
     },
     "execution_count": 27,
     "metadata": {},
     "output_type": "execute_result"
    }
   ],
   "source": [
    "results = pd.DataFrame([[\"Logistic Regression(Lasso)\",acc, pre, rec, f1]],\n",
    "             columns= [\"Model\",\"Accuracy\",\"Precision\",\"Recall\",\"F1_score\"])\n",
    "results"
   ]
  },
  {
   "cell_type": "markdown",
   "metadata": {},
   "source": [
    "FITTING CLASSIFICATION MODEL 2"
   ]
  },
  {
   "cell_type": "code",
   "execution_count": 28,
   "metadata": {
    "collapsed": true
   },
   "outputs": [],
   "source": [
    "from sklearn.svm import SVC\n",
    "classifier= SVC(kernel='linear', random_state=0)\n",
    "classifier.fit(X_train,y_train)\n",
    "y_pred = classifier.predict(X_test)"
   ]
  },
  {
   "cell_type": "code",
   "execution_count": 29,
   "metadata": {},
   "outputs": [
    {
     "data": {
      "text/html": [
       "<div>\n",
       "<style>\n",
       "    .dataframe thead tr:only-child th {\n",
       "        text-align: right;\n",
       "    }\n",
       "\n",
       "    .dataframe thead th {\n",
       "        text-align: left;\n",
       "    }\n",
       "\n",
       "    .dataframe tbody tr th {\n",
       "        vertical-align: top;\n",
       "    }\n",
       "</style>\n",
       "<table border=\"1\" class=\"dataframe\">\n",
       "  <thead>\n",
       "    <tr style=\"text-align: right;\">\n",
       "      <th></th>\n",
       "      <th>Model</th>\n",
       "      <th>Accuracy</th>\n",
       "      <th>Precision</th>\n",
       "      <th>Recall</th>\n",
       "      <th>F1_score</th>\n",
       "    </tr>\n",
       "  </thead>\n",
       "  <tbody>\n",
       "    <tr>\n",
       "      <th>0</th>\n",
       "      <td>Logistic Regression(Lasso)</td>\n",
       "      <td>0.561977</td>\n",
       "      <td>0.575963</td>\n",
       "      <td>0.705913</td>\n",
       "      <td>0.634351</td>\n",
       "    </tr>\n",
       "    <tr>\n",
       "      <th>1</th>\n",
       "      <td>SVM(Linear)</td>\n",
       "      <td>0.568398</td>\n",
       "      <td>0.577769</td>\n",
       "      <td>0.735996</td>\n",
       "      <td>0.647354</td>\n",
       "    </tr>\n",
       "  </tbody>\n",
       "</table>\n",
       "</div>"
      ],
      "text/plain": [
       "                        Model  Accuracy  Precision    Recall  F1_score\n",
       "0  Logistic Regression(Lasso)  0.561977   0.575963  0.705913  0.634351\n",
       "1                 SVM(Linear)  0.568398   0.577769  0.735996  0.647354"
      ]
     },
     "execution_count": 29,
     "metadata": {},
     "output_type": "execute_result"
    }
   ],
   "source": [
    "acc = accuracy_score(y_test,y_pred)\n",
    "pre = precision_score(y_test, y_pred)\n",
    "rec = recall_score(y_test,y_pred)\n",
    "f1 = f1_score(y_test,y_pred)\n",
    "model_results = pd.DataFrame([[\"SVM(Linear)\",acc, pre, rec, f1]],\n",
    "             columns= [\"Model\",\"Accuracy\",\"Precision\",\"Recall\",\"F1_score\"])\n",
    "results = results.append(model_results, ignore_index=True)\n",
    "results"
   ]
  },
  {
   "cell_type": "markdown",
   "metadata": {},
   "source": [
    "FITTING CLASSIFICATION MODEL 3"
   ]
  },
  {
   "cell_type": "code",
   "execution_count": 30,
   "metadata": {
    "collapsed": true
   },
   "outputs": [],
   "source": [
    "from sklearn.svm import SVC\n",
    "classifier= SVC(kernel='rbf', random_state=0)\n",
    "classifier.fit(X_train,y_train)\n",
    "y_pred = classifier.predict(X_test)"
   ]
  },
  {
   "cell_type": "code",
   "execution_count": 31,
   "metadata": {},
   "outputs": [
    {
     "data": {
      "text/html": [
       "<div>\n",
       "<style>\n",
       "    .dataframe thead tr:only-child th {\n",
       "        text-align: right;\n",
       "    }\n",
       "\n",
       "    .dataframe thead th {\n",
       "        text-align: left;\n",
       "    }\n",
       "\n",
       "    .dataframe tbody tr th {\n",
       "        vertical-align: top;\n",
       "    }\n",
       "</style>\n",
       "<table border=\"1\" class=\"dataframe\">\n",
       "  <thead>\n",
       "    <tr style=\"text-align: right;\">\n",
       "      <th></th>\n",
       "      <th>Model</th>\n",
       "      <th>Accuracy</th>\n",
       "      <th>Precision</th>\n",
       "      <th>Recall</th>\n",
       "      <th>F1_score</th>\n",
       "    </tr>\n",
       "  </thead>\n",
       "  <tbody>\n",
       "    <tr>\n",
       "      <th>0</th>\n",
       "      <td>Logistic Regression(Lasso)</td>\n",
       "      <td>0.561977</td>\n",
       "      <td>0.575963</td>\n",
       "      <td>0.705913</td>\n",
       "      <td>0.634351</td>\n",
       "    </tr>\n",
       "    <tr>\n",
       "      <th>1</th>\n",
       "      <td>SVM(Linear)</td>\n",
       "      <td>0.568398</td>\n",
       "      <td>0.577769</td>\n",
       "      <td>0.735996</td>\n",
       "      <td>0.647354</td>\n",
       "    </tr>\n",
       "    <tr>\n",
       "      <th>2</th>\n",
       "      <td>SVM(rbf)</td>\n",
       "      <td>0.591569</td>\n",
       "      <td>0.605730</td>\n",
       "      <td>0.690871</td>\n",
       "      <td>0.645505</td>\n",
       "    </tr>\n",
       "  </tbody>\n",
       "</table>\n",
       "</div>"
      ],
      "text/plain": [
       "                        Model  Accuracy  Precision    Recall  F1_score\n",
       "0  Logistic Regression(Lasso)  0.561977   0.575963  0.705913  0.634351\n",
       "1                 SVM(Linear)  0.568398   0.577769  0.735996  0.647354\n",
       "2                    SVM(rbf)  0.591569   0.605730  0.690871  0.645505"
      ]
     },
     "execution_count": 31,
     "metadata": {},
     "output_type": "execute_result"
    }
   ],
   "source": [
    "acc = accuracy_score(y_test,y_pred)\n",
    "pre = precision_score(y_test, y_pred)\n",
    "rec = recall_score(y_test,y_pred)\n",
    "f1 = f1_score(y_test,y_pred)\n",
    "model_results = pd.DataFrame([[\"SVM(rbf)\",acc, pre, rec, f1]],\n",
    "             columns= [\"Model\",\"Accuracy\",\"Precision\",\"Recall\",\"F1_score\"])\n",
    "results = results.append(model_results, ignore_index=True)\n",
    "results"
   ]
  },
  {
   "cell_type": "markdown",
   "metadata": {},
   "source": [
    "FITTING CLASSIFICATION MODEL 4"
   ]
  },
  {
   "cell_type": "code",
   "execution_count": 32,
   "metadata": {
    "collapsed": true
   },
   "outputs": [],
   "source": [
    "from sklearn.ensemble import RandomForestClassifier\n",
    "classifier= RandomForestClassifier(n_estimators=100, criterion='entropy', random_state=0)\n",
    "classifier.fit(X_train,y_train)\n",
    "y_pred = classifier.predict(X_test)"
   ]
  },
  {
   "cell_type": "code",
   "execution_count": 33,
   "metadata": {},
   "outputs": [
    {
     "data": {
      "text/html": [
       "<div>\n",
       "<style>\n",
       "    .dataframe thead tr:only-child th {\n",
       "        text-align: right;\n",
       "    }\n",
       "\n",
       "    .dataframe thead th {\n",
       "        text-align: left;\n",
       "    }\n",
       "\n",
       "    .dataframe tbody tr th {\n",
       "        vertical-align: top;\n",
       "    }\n",
       "</style>\n",
       "<table border=\"1\" class=\"dataframe\">\n",
       "  <thead>\n",
       "    <tr style=\"text-align: right;\">\n",
       "      <th></th>\n",
       "      <th>Model</th>\n",
       "      <th>Accuracy</th>\n",
       "      <th>Precision</th>\n",
       "      <th>Recall</th>\n",
       "      <th>F1_score</th>\n",
       "    </tr>\n",
       "  </thead>\n",
       "  <tbody>\n",
       "    <tr>\n",
       "      <th>0</th>\n",
       "      <td>Logistic Regression(Lasso)</td>\n",
       "      <td>0.561977</td>\n",
       "      <td>0.575963</td>\n",
       "      <td>0.705913</td>\n",
       "      <td>0.634351</td>\n",
       "    </tr>\n",
       "    <tr>\n",
       "      <th>1</th>\n",
       "      <td>SVM(Linear)</td>\n",
       "      <td>0.568398</td>\n",
       "      <td>0.577769</td>\n",
       "      <td>0.735996</td>\n",
       "      <td>0.647354</td>\n",
       "    </tr>\n",
       "    <tr>\n",
       "      <th>2</th>\n",
       "      <td>SVM(rbf)</td>\n",
       "      <td>0.591569</td>\n",
       "      <td>0.605730</td>\n",
       "      <td>0.690871</td>\n",
       "      <td>0.645505</td>\n",
       "    </tr>\n",
       "    <tr>\n",
       "      <th>3</th>\n",
       "      <td>Random Forest</td>\n",
       "      <td>0.621720</td>\n",
       "      <td>0.640098</td>\n",
       "      <td>0.678942</td>\n",
       "      <td>0.658948</td>\n",
       "    </tr>\n",
       "  </tbody>\n",
       "</table>\n",
       "</div>"
      ],
      "text/plain": [
       "                        Model  Accuracy  Precision    Recall  F1_score\n",
       "0  Logistic Regression(Lasso)  0.561977   0.575963  0.705913  0.634351\n",
       "1                 SVM(Linear)  0.568398   0.577769  0.735996  0.647354\n",
       "2                    SVM(rbf)  0.591569   0.605730  0.690871  0.645505\n",
       "3               Random Forest  0.621720   0.640098  0.678942  0.658948"
      ]
     },
     "execution_count": 33,
     "metadata": {},
     "output_type": "execute_result"
    }
   ],
   "source": [
    "acc = accuracy_score(y_test,y_pred)\n",
    "pre = precision_score(y_test, y_pred)\n",
    "rec = recall_score(y_test,y_pred)\n",
    "f1 = f1_score(y_test,y_pred)\n",
    "model_results = pd.DataFrame([[\"Random Forest\",acc, pre, rec, f1]],\n",
    "             columns= [\"Model\",\"Accuracy\",\"Precision\",\"Recall\",\"F1_score\"])\n",
    "results = results.append(model_results, ignore_index=True)\n",
    "results"
   ]
  },
  {
   "cell_type": "markdown",
   "metadata": {},
   "source": [
    "PERFORMING K FOLD CROSS VALIDATION ON RANDOM FOREST MODEL"
   ]
  },
  {
   "cell_type": "code",
   "execution_count": 34,
   "metadata": {
    "collapsed": true
   },
   "outputs": [],
   "source": [
    "from sklearn.model_selection import cross_val_score\n",
    "accuracies = cross_val_score(estimator=classifier, X=X_train, y=y_train, cv=10)"
   ]
  },
  {
   "cell_type": "code",
   "execution_count": 35,
   "metadata": {},
   "outputs": [
    {
     "name": "stdout",
     "output_type": "stream",
     "text": [
      "Random Forest Classifier Accuracy: 0.63(+/- 0.03)\n"
     ]
    }
   ],
   "source": [
    "print(\"Random Forest Classifier Accuracy: %0.2f(+/- %0.2f)\" %(accuracies.mean(),accuracies.std()*2))"
   ]
  },
  {
   "cell_type": "markdown",
   "metadata": {},
   "source": [
    "PERFORMING GRID SERACH ON RANDOM FOREST CLASSIFIER"
   ]
  },
  {
   "cell_type": "code",
   "execution_count": 36,
   "metadata": {
    "collapsed": true
   },
   "outputs": [],
   "source": [
    "parameters = {\"n_estimators\":[50,100,200],\n",
    "             \"criterion\":[\"entropy\",\"gini\"]}"
   ]
  },
  {
   "cell_type": "code",
   "execution_count": 37,
   "metadata": {
    "collapsed": true
   },
   "outputs": [],
   "source": [
    "from sklearn.model_selection import GridSearchCV\n",
    "grid_search = GridSearchCV(estimator=classifier, param_grid=parameters,scoring=\"accuracy\",cv=10,n_jobs=-1)"
   ]
  },
  {
   "cell_type": "code",
   "execution_count": null,
   "metadata": {
    "collapsed": true
   },
   "outputs": [],
   "source": [
    "grid_search = grid_search.fit(X_train,y_train)"
   ]
  },
  {
   "cell_type": "code",
   "execution_count": 84,
   "metadata": {
    "collapsed": true
   },
   "outputs": [],
   "source": [
    "rf_best_parameters = grid_search.best_params_\n",
    "rf_best_accuracy = grid_search.best_score_"
   ]
  },
  {
   "cell_type": "code",
   "execution_count": 85,
   "metadata": {},
   "outputs": [
    {
     "data": {
      "text/plain": [
       "(0.6340220577970124, {'criterion': 'gini', 'n_estimators': 200})"
      ]
     },
     "execution_count": 85,
     "metadata": {},
     "output_type": "execute_result"
    }
   ],
   "source": [
    "rf_best_accuracy, rf_best_parameters"
   ]
  },
  {
   "cell_type": "code",
   "execution_count": 86,
   "metadata": {},
   "outputs": [
    {
     "data": {
      "text/html": [
       "<div>\n",
       "<style>\n",
       "    .dataframe thead tr:only-child th {\n",
       "        text-align: right;\n",
       "    }\n",
       "\n",
       "    .dataframe thead th {\n",
       "        text-align: left;\n",
       "    }\n",
       "\n",
       "    .dataframe tbody tr th {\n",
       "        vertical-align: top;\n",
       "    }\n",
       "</style>\n",
       "<table border=\"1\" class=\"dataframe\">\n",
       "  <thead>\n",
       "    <tr style=\"text-align: right;\">\n",
       "      <th></th>\n",
       "      <th>Model</th>\n",
       "      <th>Accuracy</th>\n",
       "      <th>Precision</th>\n",
       "      <th>Recall</th>\n",
       "      <th>F1_score</th>\n",
       "    </tr>\n",
       "  </thead>\n",
       "  <tbody>\n",
       "    <tr>\n",
       "      <th>0</th>\n",
       "      <td>Logistic Regression(Lasso)</td>\n",
       "      <td>0.561977</td>\n",
       "      <td>0.575963</td>\n",
       "      <td>0.705913</td>\n",
       "      <td>0.634351</td>\n",
       "    </tr>\n",
       "    <tr>\n",
       "      <th>1</th>\n",
       "      <td>SVM(Linear)</td>\n",
       "      <td>0.568398</td>\n",
       "      <td>0.577769</td>\n",
       "      <td>0.735996</td>\n",
       "      <td>0.647354</td>\n",
       "    </tr>\n",
       "    <tr>\n",
       "      <th>2</th>\n",
       "      <td>SVM(rbf)</td>\n",
       "      <td>0.591569</td>\n",
       "      <td>0.605730</td>\n",
       "      <td>0.690871</td>\n",
       "      <td>0.645505</td>\n",
       "    </tr>\n",
       "    <tr>\n",
       "      <th>3</th>\n",
       "      <td>Random Forest</td>\n",
       "      <td>0.621999</td>\n",
       "      <td>0.640137</td>\n",
       "      <td>0.679979</td>\n",
       "      <td>0.659457</td>\n",
       "    </tr>\n",
       "    <tr>\n",
       "      <th>4</th>\n",
       "      <td>Random Forest(Grid Search)</td>\n",
       "      <td>0.624791</td>\n",
       "      <td>0.640250</td>\n",
       "      <td>0.691390</td>\n",
       "      <td>0.664838</td>\n",
       "    </tr>\n",
       "  </tbody>\n",
       "</table>\n",
       "</div>"
      ],
      "text/plain": [
       "                        Model  Accuracy  Precision    Recall  F1_score\n",
       "0  Logistic Regression(Lasso)  0.561977   0.575963  0.705913  0.634351\n",
       "1                 SVM(Linear)  0.568398   0.577769  0.735996  0.647354\n",
       "2                    SVM(rbf)  0.591569   0.605730  0.690871  0.645505\n",
       "3               Random Forest  0.621999   0.640137  0.679979  0.659457\n",
       "4  Random Forest(Grid Search)  0.624791   0.640250  0.691390  0.664838"
      ]
     },
     "execution_count": 86,
     "metadata": {},
     "output_type": "execute_result"
    }
   ],
   "source": [
    "y_pred = grid_search.predict(X_test)\n",
    "acc = accuracy_score(y_test,y_pred)\n",
    "pre = precision_score(y_test, y_pred)\n",
    "rec = recall_score(y_test,y_pred)\n",
    "f1 = f1_score(y_test,y_pred)\n",
    "model_results = pd.DataFrame([[\"Random Forest(Grid Search)\",acc, pre, rec, f1]],\n",
    "             columns= [\"Model\",\"Accuracy\",\"Precision\",\"Recall\",\"F1_score\"])\n",
    "results = results.append(model_results, ignore_index=True)\n",
    "results"
   ]
  },
  {
   "cell_type": "markdown",
   "metadata": {},
   "source": [
    "FINAL RESULTS"
   ]
  },
  {
   "cell_type": "code",
   "execution_count": 88,
   "metadata": {
    "collapsed": true
   },
   "outputs": [],
   "source": [
    "final_results = pd.concat([y_test, users], axis=1).dropna()\n",
    "final_results[\"predicted e_signed\"] = y_pred\n",
    "final_reults = final_results[[\"entry_id\",\"e_signed\",\"predicted e_signed\"]]"
   ]
  },
  {
   "cell_type": "code",
   "execution_count": 89,
   "metadata": {},
   "outputs": [
    {
     "data": {
      "text/html": [
       "<div>\n",
       "<style>\n",
       "    .dataframe thead tr:only-child th {\n",
       "        text-align: right;\n",
       "    }\n",
       "\n",
       "    .dataframe thead th {\n",
       "        text-align: left;\n",
       "    }\n",
       "\n",
       "    .dataframe tbody tr th {\n",
       "        vertical-align: top;\n",
       "    }\n",
       "</style>\n",
       "<table border=\"1\" class=\"dataframe\">\n",
       "  <thead>\n",
       "    <tr style=\"text-align: right;\">\n",
       "      <th></th>\n",
       "      <th>e_signed</th>\n",
       "      <th>entry_id</th>\n",
       "      <th>predicted e_signed</th>\n",
       "    </tr>\n",
       "  </thead>\n",
       "  <tbody>\n",
       "    <tr>\n",
       "      <th>8</th>\n",
       "      <td>1.0</td>\n",
       "      <td>6493191</td>\n",
       "      <td>0</td>\n",
       "    </tr>\n",
       "    <tr>\n",
       "      <th>9</th>\n",
       "      <td>1.0</td>\n",
       "      <td>8908605</td>\n",
       "      <td>0</td>\n",
       "    </tr>\n",
       "    <tr>\n",
       "      <th>12</th>\n",
       "      <td>1.0</td>\n",
       "      <td>6889184</td>\n",
       "      <td>1</td>\n",
       "    </tr>\n",
       "    <tr>\n",
       "      <th>16</th>\n",
       "      <td>0.0</td>\n",
       "      <td>9375601</td>\n",
       "      <td>1</td>\n",
       "    </tr>\n",
       "    <tr>\n",
       "      <th>18</th>\n",
       "      <td>1.0</td>\n",
       "      <td>8515555</td>\n",
       "      <td>1</td>\n",
       "    </tr>\n",
       "    <tr>\n",
       "      <th>31</th>\n",
       "      <td>0.0</td>\n",
       "      <td>2881357</td>\n",
       "      <td>0</td>\n",
       "    </tr>\n",
       "    <tr>\n",
       "      <th>33</th>\n",
       "      <td>1.0</td>\n",
       "      <td>7048193</td>\n",
       "      <td>1</td>\n",
       "    </tr>\n",
       "    <tr>\n",
       "      <th>37</th>\n",
       "      <td>1.0</td>\n",
       "      <td>5815308</td>\n",
       "      <td>1</td>\n",
       "    </tr>\n",
       "    <tr>\n",
       "      <th>44</th>\n",
       "      <td>1.0</td>\n",
       "      <td>8700190</td>\n",
       "      <td>1</td>\n",
       "    </tr>\n",
       "    <tr>\n",
       "      <th>45</th>\n",
       "      <td>0.0</td>\n",
       "      <td>8232654</td>\n",
       "      <td>0</td>\n",
       "    </tr>\n",
       "    <tr>\n",
       "      <th>47</th>\n",
       "      <td>0.0</td>\n",
       "      <td>6017637</td>\n",
       "      <td>1</td>\n",
       "    </tr>\n",
       "    <tr>\n",
       "      <th>48</th>\n",
       "      <td>0.0</td>\n",
       "      <td>9071675</td>\n",
       "      <td>1</td>\n",
       "    </tr>\n",
       "    <tr>\n",
       "      <th>51</th>\n",
       "      <td>0.0</td>\n",
       "      <td>2718414</td>\n",
       "      <td>0</td>\n",
       "    </tr>\n",
       "    <tr>\n",
       "      <th>60</th>\n",
       "      <td>1.0</td>\n",
       "      <td>1213384</td>\n",
       "      <td>1</td>\n",
       "    </tr>\n",
       "    <tr>\n",
       "      <th>65</th>\n",
       "      <td>0.0</td>\n",
       "      <td>9217393</td>\n",
       "      <td>1</td>\n",
       "    </tr>\n",
       "    <tr>\n",
       "      <th>69</th>\n",
       "      <td>0.0</td>\n",
       "      <td>1401385</td>\n",
       "      <td>0</td>\n",
       "    </tr>\n",
       "    <tr>\n",
       "      <th>74</th>\n",
       "      <td>1.0</td>\n",
       "      <td>3385813</td>\n",
       "      <td>0</td>\n",
       "    </tr>\n",
       "    <tr>\n",
       "      <th>88</th>\n",
       "      <td>1.0</td>\n",
       "      <td>3337988</td>\n",
       "      <td>0</td>\n",
       "    </tr>\n",
       "    <tr>\n",
       "      <th>94</th>\n",
       "      <td>1.0</td>\n",
       "      <td>5646177</td>\n",
       "      <td>1</td>\n",
       "    </tr>\n",
       "    <tr>\n",
       "      <th>103</th>\n",
       "      <td>1.0</td>\n",
       "      <td>6428253</td>\n",
       "      <td>0</td>\n",
       "    </tr>\n",
       "    <tr>\n",
       "      <th>119</th>\n",
       "      <td>0.0</td>\n",
       "      <td>8739167</td>\n",
       "      <td>1</td>\n",
       "    </tr>\n",
       "    <tr>\n",
       "      <th>122</th>\n",
       "      <td>0.0</td>\n",
       "      <td>9260893</td>\n",
       "      <td>0</td>\n",
       "    </tr>\n",
       "    <tr>\n",
       "      <th>124</th>\n",
       "      <td>1.0</td>\n",
       "      <td>6989789</td>\n",
       "      <td>1</td>\n",
       "    </tr>\n",
       "    <tr>\n",
       "      <th>127</th>\n",
       "      <td>0.0</td>\n",
       "      <td>5032836</td>\n",
       "      <td>0</td>\n",
       "    </tr>\n",
       "    <tr>\n",
       "      <th>129</th>\n",
       "      <td>1.0</td>\n",
       "      <td>5770277</td>\n",
       "      <td>0</td>\n",
       "    </tr>\n",
       "    <tr>\n",
       "      <th>134</th>\n",
       "      <td>1.0</td>\n",
       "      <td>9129594</td>\n",
       "      <td>0</td>\n",
       "    </tr>\n",
       "    <tr>\n",
       "      <th>142</th>\n",
       "      <td>1.0</td>\n",
       "      <td>4488789</td>\n",
       "      <td>0</td>\n",
       "    </tr>\n",
       "    <tr>\n",
       "      <th>146</th>\n",
       "      <td>1.0</td>\n",
       "      <td>3265474</td>\n",
       "      <td>0</td>\n",
       "    </tr>\n",
       "    <tr>\n",
       "      <th>150</th>\n",
       "      <td>1.0</td>\n",
       "      <td>4867078</td>\n",
       "      <td>0</td>\n",
       "    </tr>\n",
       "    <tr>\n",
       "      <th>154</th>\n",
       "      <td>1.0</td>\n",
       "      <td>5700559</td>\n",
       "      <td>1</td>\n",
       "    </tr>\n",
       "    <tr>\n",
       "      <th>...</th>\n",
       "      <td>...</td>\n",
       "      <td>...</td>\n",
       "      <td>...</td>\n",
       "    </tr>\n",
       "    <tr>\n",
       "      <th>17779</th>\n",
       "      <td>0.0</td>\n",
       "      <td>2853843</td>\n",
       "      <td>1</td>\n",
       "    </tr>\n",
       "    <tr>\n",
       "      <th>17781</th>\n",
       "      <td>1.0</td>\n",
       "      <td>9800690</td>\n",
       "      <td>1</td>\n",
       "    </tr>\n",
       "    <tr>\n",
       "      <th>17796</th>\n",
       "      <td>0.0</td>\n",
       "      <td>8721355</td>\n",
       "      <td>0</td>\n",
       "    </tr>\n",
       "    <tr>\n",
       "      <th>17805</th>\n",
       "      <td>1.0</td>\n",
       "      <td>3386085</td>\n",
       "      <td>1</td>\n",
       "    </tr>\n",
       "    <tr>\n",
       "      <th>17811</th>\n",
       "      <td>0.0</td>\n",
       "      <td>6775612</td>\n",
       "      <td>1</td>\n",
       "    </tr>\n",
       "    <tr>\n",
       "      <th>17813</th>\n",
       "      <td>1.0</td>\n",
       "      <td>4985718</td>\n",
       "      <td>0</td>\n",
       "    </tr>\n",
       "    <tr>\n",
       "      <th>17814</th>\n",
       "      <td>0.0</td>\n",
       "      <td>2864796</td>\n",
       "      <td>1</td>\n",
       "    </tr>\n",
       "    <tr>\n",
       "      <th>17815</th>\n",
       "      <td>1.0</td>\n",
       "      <td>5737298</td>\n",
       "      <td>1</td>\n",
       "    </tr>\n",
       "    <tr>\n",
       "      <th>17820</th>\n",
       "      <td>1.0</td>\n",
       "      <td>4274110</td>\n",
       "      <td>1</td>\n",
       "    </tr>\n",
       "    <tr>\n",
       "      <th>17831</th>\n",
       "      <td>0.0</td>\n",
       "      <td>6093659</td>\n",
       "      <td>1</td>\n",
       "    </tr>\n",
       "    <tr>\n",
       "      <th>17835</th>\n",
       "      <td>1.0</td>\n",
       "      <td>7083364</td>\n",
       "      <td>1</td>\n",
       "    </tr>\n",
       "    <tr>\n",
       "      <th>17846</th>\n",
       "      <td>0.0</td>\n",
       "      <td>2040701</td>\n",
       "      <td>0</td>\n",
       "    </tr>\n",
       "    <tr>\n",
       "      <th>17847</th>\n",
       "      <td>1.0</td>\n",
       "      <td>7100904</td>\n",
       "      <td>0</td>\n",
       "    </tr>\n",
       "    <tr>\n",
       "      <th>17850</th>\n",
       "      <td>1.0</td>\n",
       "      <td>5038970</td>\n",
       "      <td>1</td>\n",
       "    </tr>\n",
       "    <tr>\n",
       "      <th>17854</th>\n",
       "      <td>1.0</td>\n",
       "      <td>8092654</td>\n",
       "      <td>1</td>\n",
       "    </tr>\n",
       "    <tr>\n",
       "      <th>17857</th>\n",
       "      <td>1.0</td>\n",
       "      <td>7045673</td>\n",
       "      <td>0</td>\n",
       "    </tr>\n",
       "    <tr>\n",
       "      <th>17864</th>\n",
       "      <td>0.0</td>\n",
       "      <td>7997931</td>\n",
       "      <td>1</td>\n",
       "    </tr>\n",
       "    <tr>\n",
       "      <th>17865</th>\n",
       "      <td>0.0</td>\n",
       "      <td>5946920</td>\n",
       "      <td>1</td>\n",
       "    </tr>\n",
       "    <tr>\n",
       "      <th>17866</th>\n",
       "      <td>1.0</td>\n",
       "      <td>3275691</td>\n",
       "      <td>1</td>\n",
       "    </tr>\n",
       "    <tr>\n",
       "      <th>17867</th>\n",
       "      <td>1.0</td>\n",
       "      <td>8990324</td>\n",
       "      <td>1</td>\n",
       "    </tr>\n",
       "    <tr>\n",
       "      <th>17871</th>\n",
       "      <td>1.0</td>\n",
       "      <td>2247736</td>\n",
       "      <td>0</td>\n",
       "    </tr>\n",
       "    <tr>\n",
       "      <th>17875</th>\n",
       "      <td>1.0</td>\n",
       "      <td>4736767</td>\n",
       "      <td>0</td>\n",
       "    </tr>\n",
       "    <tr>\n",
       "      <th>17876</th>\n",
       "      <td>0.0</td>\n",
       "      <td>3749453</td>\n",
       "      <td>0</td>\n",
       "    </tr>\n",
       "    <tr>\n",
       "      <th>17877</th>\n",
       "      <td>0.0</td>\n",
       "      <td>9192574</td>\n",
       "      <td>1</td>\n",
       "    </tr>\n",
       "    <tr>\n",
       "      <th>17880</th>\n",
       "      <td>1.0</td>\n",
       "      <td>3620673</td>\n",
       "      <td>0</td>\n",
       "    </tr>\n",
       "    <tr>\n",
       "      <th>17881</th>\n",
       "      <td>1.0</td>\n",
       "      <td>5028251</td>\n",
       "      <td>1</td>\n",
       "    </tr>\n",
       "    <tr>\n",
       "      <th>17888</th>\n",
       "      <td>0.0</td>\n",
       "      <td>8958068</td>\n",
       "      <td>0</td>\n",
       "    </tr>\n",
       "    <tr>\n",
       "      <th>17890</th>\n",
       "      <td>0.0</td>\n",
       "      <td>3605941</td>\n",
       "      <td>1</td>\n",
       "    </tr>\n",
       "    <tr>\n",
       "      <th>17901</th>\n",
       "      <td>0.0</td>\n",
       "      <td>1807355</td>\n",
       "      <td>1</td>\n",
       "    </tr>\n",
       "    <tr>\n",
       "      <th>17907</th>\n",
       "      <td>1.0</td>\n",
       "      <td>1498559</td>\n",
       "      <td>1</td>\n",
       "    </tr>\n",
       "  </tbody>\n",
       "</table>\n",
       "<p>3582 rows × 3 columns</p>\n",
       "</div>"
      ],
      "text/plain": [
       "       e_signed  entry_id  predicted e_signed\n",
       "8           1.0   6493191                   0\n",
       "9           1.0   8908605                   0\n",
       "12          1.0   6889184                   1\n",
       "16          0.0   9375601                   1\n",
       "18          1.0   8515555                   1\n",
       "31          0.0   2881357                   0\n",
       "33          1.0   7048193                   1\n",
       "37          1.0   5815308                   1\n",
       "44          1.0   8700190                   1\n",
       "45          0.0   8232654                   0\n",
       "47          0.0   6017637                   1\n",
       "48          0.0   9071675                   1\n",
       "51          0.0   2718414                   0\n",
       "60          1.0   1213384                   1\n",
       "65          0.0   9217393                   1\n",
       "69          0.0   1401385                   0\n",
       "74          1.0   3385813                   0\n",
       "88          1.0   3337988                   0\n",
       "94          1.0   5646177                   1\n",
       "103         1.0   6428253                   0\n",
       "119         0.0   8739167                   1\n",
       "122         0.0   9260893                   0\n",
       "124         1.0   6989789                   1\n",
       "127         0.0   5032836                   0\n",
       "129         1.0   5770277                   0\n",
       "134         1.0   9129594                   0\n",
       "142         1.0   4488789                   0\n",
       "146         1.0   3265474                   0\n",
       "150         1.0   4867078                   0\n",
       "154         1.0   5700559                   1\n",
       "...         ...       ...                 ...\n",
       "17779       0.0   2853843                   1\n",
       "17781       1.0   9800690                   1\n",
       "17796       0.0   8721355                   0\n",
       "17805       1.0   3386085                   1\n",
       "17811       0.0   6775612                   1\n",
       "17813       1.0   4985718                   0\n",
       "17814       0.0   2864796                   1\n",
       "17815       1.0   5737298                   1\n",
       "17820       1.0   4274110                   1\n",
       "17831       0.0   6093659                   1\n",
       "17835       1.0   7083364                   1\n",
       "17846       0.0   2040701                   0\n",
       "17847       1.0   7100904                   0\n",
       "17850       1.0   5038970                   1\n",
       "17854       1.0   8092654                   1\n",
       "17857       1.0   7045673                   0\n",
       "17864       0.0   7997931                   1\n",
       "17865       0.0   5946920                   1\n",
       "17866       1.0   3275691                   1\n",
       "17867       1.0   8990324                   1\n",
       "17871       1.0   2247736                   0\n",
       "17875       1.0   4736767                   0\n",
       "17876       0.0   3749453                   0\n",
       "17877       0.0   9192574                   1\n",
       "17880       1.0   3620673                   0\n",
       "17881       1.0   5028251                   1\n",
       "17888       0.0   8958068                   0\n",
       "17890       0.0   3605941                   1\n",
       "17901       0.0   1807355                   1\n",
       "17907       1.0   1498559                   1\n",
       "\n",
       "[3582 rows x 3 columns]"
      ]
     },
     "execution_count": 89,
     "metadata": {},
     "output_type": "execute_result"
    }
   ],
   "source": [
    "final_results"
   ]
  },
  {
   "cell_type": "markdown",
   "metadata": {
    "collapsed": true
   },
   "source": [
    "Conclusion: We applied 4 different algorithms and found that Random Forest gives the best results. We then applied Grid search to random forest classifier to get the best parameters and ended up with an f1_score of 66%. Thus we can target the right customers with different onboarding screens which may increase the chances of customer e-signing the loan and thereby increasing the profits of company."
   ]
  }
 ],
 "metadata": {
  "kernelspec": {
   "display_name": "Python 3",
   "language": "python",
   "name": "python3"
  },
  "language_info": {
   "codemirror_mode": {
    "name": "ipython",
    "version": 3
   },
   "file_extension": ".py",
   "mimetype": "text/x-python",
   "name": "python",
   "nbconvert_exporter": "python",
   "pygments_lexer": "ipython3",
   "version": "3.6.1"
  }
 },
 "nbformat": 4,
 "nbformat_minor": 2
}
